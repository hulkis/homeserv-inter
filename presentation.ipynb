{
 "cells": [
  {
   "cell_type": "markdown",
   "metadata": {},
   "source": [
    "# Data Preprocessing"
   ]
  },
  {
   "cell_type": "code",
   "execution_count": 1,
   "metadata": {},
   "outputs": [],
   "source": [
    "# Merging all csv and convert it into a unique parquet file\n",
    "from homeserv_inter.cli import convert_csv_to_parquet\n",
    "convert_csv_to_parquet()"
   ]
  },
  {
   "cell_type": "code",
   "execution_count": 1,
   "metadata": {},
   "outputs": [],
   "source": [
    "# Output:\n",
    "# Reading organisation.csv took 0.017 sec\n",
    "# Reading equipment.csv took 9.239 sec\n",
    "# Reading contract_history.csv took 26.117 sec\n",
    "# Reading intervention_test.csv took 0.950 sec\n",
    "# Reading intervention_train.csv took 4.777 sec\n",
    "# Reading intervention_history.csv took 48.357 sec\n",
    "# Reading nature-code csv took 0.020 sec\n",
    "# Merging all train set took 77.987 sec\n",
    "# Merging all test set took 19.109 sec"
   ]
  },
  {
   "cell_type": "code",
   "execution_count": null,
   "metadata": {},
   "outputs": [],
   "source": [
    "# 'Cleaned' sets are datasets ready to be used to train & predict. They contains also the features engineered.\n",
    "from homeserv_inter.datahandler import generate_cleaned_sets\n",
    "generate_cleaned_sets()"
   ]
  },
  {
   "cell_type": "code",
   "execution_count": 2,
   "metadata": {},
   "outputs": [],
   "source": [
    "# Output:\n",
    "\n",
    "# Gen clean trainset in progress...\n",
    "# Reading train set took 5.822 sec\n",
    "# Building timestamp features took 13.055 sec\n",
    "# One Hot Encoding for CATEGORICAL_FEATURES with pd.get_dummies took 24.379 sec\n",
    "# Building str features took 44.395 sec\n",
    "# Cleaning NaNs for label encoding took 15.942 sec\n",
    "# Encoding labels took 114.318 sec\n",
    "# Saving into /home/guillaume.jeusel/src/homeserv-inter/data/cleaned/train_cleaned.parquet.gzip took 14.776 sec\n",
    "# Gen clean trainset took 194.291 sec\n",
    "\n",
    "# Gen clean testset in progress...\n",
    "# Reading test set took 1.431 sec\n",
    "# Building timestamp features took 2.820 sec\n",
    "# One Hot Encoding for CATEGORICAL_FEATURES with pd.get_dummies took 4.723 sec\n",
    "# Building str features took 8.838 sec\n",
    "# Cleaning NaNs for label encoding took 3.445 sec\n",
    "# Encoding labels took 22.083 sec\n",
    "# Saving into /home/guillaume.jeusel/src/homeserv-inter/data/cleaned/test_cleaned.parquet.gzip took 3.189 sec\n",
    "# Gen clean testset took 38.781 sec"
   ]
  },
  {
   "cell_type": "markdown",
   "metadata": {},
   "source": [
    "# LightGBM Model"
   ]
  },
  {
   "cell_type": "code",
   "execution_count": 3,
   "metadata": {},
   "outputs": [],
   "source": [
    "from homeserv_inter.model import LgbHomeService\n",
    "lgbmodel = LgbHomeService(debug=True, drop_lowimp_features=True)"
   ]
  },
  {
   "cell_type": "code",
   "execution_count": 4,
   "metadata": {},
   "outputs": [
    {
     "name": "stdout",
     "output_type": "stream",
     "text": [
      "Reading train set took 3.831 sec\n",
      "Replacing -1 categorical by np.nan took 0.039 sec\n",
      "Dropping low importance features !\n",
      "[1]\ttraining's auc: 0.77331\tvalid_1's auc: 0.646931\n",
      "[2]\ttraining's auc: 0.80934\tvalid_1's auc: 0.685712\n",
      "[3]\ttraining's auc: 0.818334\tvalid_1's auc: 0.689258\n",
      "[4]\ttraining's auc: 0.826186\tvalid_1's auc: 0.696464\n",
      "[5]\ttraining's auc: 0.833763\tvalid_1's auc: 0.701647\n",
      "[6]\ttraining's auc: 0.843504\tvalid_1's auc: 0.704178\n",
      "[7]\ttraining's auc: 0.851137\tvalid_1's auc: 0.711296\n",
      "[8]\ttraining's auc: 0.852423\tvalid_1's auc: 0.713373\n",
      "[9]\ttraining's auc: 0.854014\tvalid_1's auc: 0.709709\n",
      "[10]\ttraining's auc: 0.861276\tvalid_1's auc: 0.714055\n",
      "[11]\ttraining's auc: 0.865732\tvalid_1's auc: 0.716073\n",
      "[12]\ttraining's auc: 0.867344\tvalid_1's auc: 0.716173\n",
      "[13]\ttraining's auc: 0.872578\tvalid_1's auc: 0.713035\n",
      "[14]\ttraining's auc: 0.876965\tvalid_1's auc: 0.715786\n",
      "[15]\ttraining's auc: 0.87961\tvalid_1's auc: 0.713312\n",
      "[16]\ttraining's auc: 0.881963\tvalid_1's auc: 0.714771\n",
      "[17]\ttraining's auc: 0.883699\tvalid_1's auc: 0.715809\n",
      "[18]\ttraining's auc: 0.88678\tvalid_1's auc: 0.715648\n",
      "[19]\ttraining's auc: 0.890845\tvalid_1's auc: 0.716831\n",
      "[20]\ttraining's auc: 0.895255\tvalid_1's auc: 0.71873\n",
      "[21]\ttraining's auc: 0.895694\tvalid_1's auc: 0.719072\n",
      "[22]\ttraining's auc: 0.898893\tvalid_1's auc: 0.721239\n",
      "[23]\ttraining's auc: 0.9014\tvalid_1's auc: 0.723086\n",
      "[24]\ttraining's auc: 0.903529\tvalid_1's auc: 0.724121\n",
      "[25]\ttraining's auc: 0.9075\tvalid_1's auc: 0.724962\n",
      "[26]\ttraining's auc: 0.910617\tvalid_1's auc: 0.72811\n",
      "[27]\ttraining's auc: 0.913949\tvalid_1's auc: 0.730457\n",
      "[28]\ttraining's auc: 0.914157\tvalid_1's auc: 0.731327\n",
      "[29]\ttraining's auc: 0.916746\tvalid_1's auc: 0.732116\n",
      "[30]\ttraining's auc: 0.919583\tvalid_1's auc: 0.733043\n",
      "[31]\ttraining's auc: 0.920497\tvalid_1's auc: 0.732733\n",
      "[32]\ttraining's auc: 0.922\tvalid_1's auc: 0.732917\n",
      "[33]\ttraining's auc: 0.924327\tvalid_1's auc: 0.736069\n",
      "[34]\ttraining's auc: 0.92637\tvalid_1's auc: 0.73497\n",
      "[35]\ttraining's auc: 0.926122\tvalid_1's auc: 0.734762\n",
      "[36]\ttraining's auc: 0.926269\tvalid_1's auc: 0.734238\n",
      "[37]\ttraining's auc: 0.928518\tvalid_1's auc: 0.733946\n",
      "[38]\ttraining's auc: 0.93025\tvalid_1's auc: 0.73283\n",
      "[39]\ttraining's auc: 0.932078\tvalid_1's auc: 0.732677\n",
      "[40]\ttraining's auc: 0.933131\tvalid_1's auc: 0.732178\n",
      "[41]\ttraining's auc: 0.933278\tvalid_1's auc: 0.732327\n",
      "[42]\ttraining's auc: 0.934938\tvalid_1's auc: 0.733051\n",
      "[43]\ttraining's auc: 0.934831\tvalid_1's auc: 0.733054\n",
      "[44]\ttraining's auc: 0.936129\tvalid_1's auc: 0.733323\n",
      "[45]\ttraining's auc: 0.93787\tvalid_1's auc: 0.733311\n",
      "[46]\ttraining's auc: 0.938264\tvalid_1's auc: 0.733254\n",
      "[47]\ttraining's auc: 0.939837\tvalid_1's auc: 0.733832\n",
      "[48]\ttraining's auc: 0.940684\tvalid_1's auc: 0.734643\n",
      "[49]\ttraining's auc: 0.940841\tvalid_1's auc: 0.735445\n",
      "[50]\ttraining's auc: 0.940703\tvalid_1's auc: 0.73499\n",
      "[51]\ttraining's auc: 0.942046\tvalid_1's auc: 0.735095\n",
      "[52]\ttraining's auc: 0.943553\tvalid_1's auc: 0.736421\n",
      "[53]\ttraining's auc: 0.943845\tvalid_1's auc: 0.73685\n",
      "[54]\ttraining's auc: 0.945145\tvalid_1's auc: 0.736214\n",
      "[55]\ttraining's auc: 0.94607\tvalid_1's auc: 0.736307\n",
      "[56]\ttraining's auc: 0.946114\tvalid_1's auc: 0.736658\n",
      "[57]\ttraining's auc: 0.947185\tvalid_1's auc: 0.735739\n",
      "[58]\ttraining's auc: 0.947725\tvalid_1's auc: 0.735981\n",
      "[59]\ttraining's auc: 0.94805\tvalid_1's auc: 0.735704\n",
      "[60]\ttraining's auc: 0.949203\tvalid_1's auc: 0.735692\n",
      "[61]\ttraining's auc: 0.949602\tvalid_1's auc: 0.735612\n",
      "[62]\ttraining's auc: 0.950387\tvalid_1's auc: 0.736405\n",
      "[63]\ttraining's auc: 0.951212\tvalid_1's auc: 0.737188\n",
      "[64]\ttraining's auc: 0.951467\tvalid_1's auc: 0.736661\n",
      "[65]\ttraining's auc: 0.951157\tvalid_1's auc: 0.736896\n",
      "[66]\ttraining's auc: 0.951724\tvalid_1's auc: 0.737282\n",
      "[67]\ttraining's auc: 0.952211\tvalid_1's auc: 0.737138\n",
      "[68]\ttraining's auc: 0.952876\tvalid_1's auc: 0.737597\n",
      "[69]\ttraining's auc: 0.952673\tvalid_1's auc: 0.737833\n",
      "[70]\ttraining's auc: 0.952682\tvalid_1's auc: 0.737785\n",
      "[71]\ttraining's auc: 0.953197\tvalid_1's auc: 0.737689\n",
      "[72]\ttraining's auc: 0.953829\tvalid_1's auc: 0.738513\n",
      "[73]\ttraining's auc: 0.954744\tvalid_1's auc: 0.739024\n",
      "[74]\ttraining's auc: 0.954539\tvalid_1's auc: 0.738849\n",
      "[75]\ttraining's auc: 0.95552\tvalid_1's auc: 0.737684\n",
      "[76]\ttraining's auc: 0.955801\tvalid_1's auc: 0.737524\n",
      "[77]\ttraining's auc: 0.955743\tvalid_1's auc: 0.737375\n",
      "[78]\ttraining's auc: 0.956121\tvalid_1's auc: 0.737455\n",
      "[79]\ttraining's auc: 0.956683\tvalid_1's auc: 0.737044\n",
      "[80]\ttraining's auc: 0.957169\tvalid_1's auc: 0.736813\n",
      "[81]\ttraining's auc: 0.957176\tvalid_1's auc: 0.736859\n",
      "[82]\ttraining's auc: 0.958234\tvalid_1's auc: 0.736376\n",
      "[83]\ttraining's auc: 0.958273\tvalid_1's auc: 0.736608\n",
      "[84]\ttraining's auc: 0.958055\tvalid_1's auc: 0.736481\n",
      "[85]\ttraining's auc: 0.958012\tvalid_1's auc: 0.736475\n",
      "[86]\ttraining's auc: 0.958722\tvalid_1's auc: 0.735567\n",
      "[87]\ttraining's auc: 0.959452\tvalid_1's auc: 0.735302\n",
      "[88]\ttraining's auc: 0.959344\tvalid_1's auc: 0.735517\n",
      "[89]\ttraining's auc: 0.959562\tvalid_1's auc: 0.73535\n",
      "[90]\ttraining's auc: 0.959425\tvalid_1's auc: 0.735434\n",
      "[91]\ttraining's auc: 0.959609\tvalid_1's auc: 0.735678\n",
      "[92]\ttraining's auc: 0.960661\tvalid_1's auc: 0.735553\n",
      "[93]\ttraining's auc: 0.961565\tvalid_1's auc: 0.734659\n",
      "[94]\ttraining's auc: 0.961306\tvalid_1's auc: 0.734706\n",
      "[95]\ttraining's auc: 0.961365\tvalid_1's auc: 0.734783\n",
      "[96]\ttraining's auc: 0.961306\tvalid_1's auc: 0.735012\n",
      "[97]\ttraining's auc: 0.96176\tvalid_1's auc: 0.734601\n",
      "[98]\ttraining's auc: 0.961851\tvalid_1's auc: 0.73449\n",
      "[99]\ttraining's auc: 0.962359\tvalid_1's auc: 0.734073\n",
      "[100]\ttraining's auc: 0.963119\tvalid_1's auc: 0.734658\n"
     ]
    }
   ],
   "source": [
    "booster = lgbmodel.validate()"
   ]
  },
  {
   "cell_type": "code",
   "execution_count": 5,
   "metadata": {},
   "outputs": [],
   "source": [
    "lgbmodel = LgbHomeService(debug=False, drop_lowimp_features=True)"
   ]
  },
  {
   "cell_type": "code",
   "execution_count": 6,
   "metadata": {},
   "outputs": [
    {
     "name": "stdout",
     "output_type": "stream",
     "text": [
      "Reading train set took 3.526 sec\n",
      "Replacing -1 categorical by np.nan took 0.999 sec\n",
      "Dropping low importance features !\n",
      "[1]\tcv_agg's auc: 0.697839 + 0.00141853\n",
      "[2]\tcv_agg's auc: 0.698786 + 0.0014249\n",
      "[3]\tcv_agg's auc: 0.712562 + 0.00144279\n",
      "[4]\tcv_agg's auc: 0.718969 + 0.00160412\n",
      "[5]\tcv_agg's auc: 0.716993 + 0.00161171\n",
      "[6]\tcv_agg's auc: 0.721293 + 0.00167892\n",
      "[7]\tcv_agg's auc: 0.72043 + 0.00170616\n",
      "[8]\tcv_agg's auc: 0.721114 + 0.00167343\n",
      "[9]\tcv_agg's auc: 0.723971 + 0.00163693\n",
      "[10]\tcv_agg's auc: 0.726112 + 0.0015399\n",
      "[11]\tcv_agg's auc: 0.728074 + 0.00154367\n",
      "[12]\tcv_agg's auc: 0.727756 + 0.00154309\n",
      "[13]\tcv_agg's auc: 0.72893 + 0.00152284\n",
      "[14]\tcv_agg's auc: 0.729725 + 0.00152533\n",
      "[15]\tcv_agg's auc: 0.730541 + 0.00155008\n",
      "[16]\tcv_agg's auc: 0.730071 + 0.00156224\n",
      "[17]\tcv_agg's auc: 0.730517 + 0.00156726\n",
      "[18]\tcv_agg's auc: 0.730855 + 0.0015675\n",
      "[19]\tcv_agg's auc: 0.730555 + 0.00154812\n",
      "[20]\tcv_agg's auc: 0.730967 + 0.00154479\n",
      "[21]\tcv_agg's auc: 0.731142 + 0.00152656\n",
      "[22]\tcv_agg's auc: 0.730903 + 0.00150702\n",
      "[23]\tcv_agg's auc: 0.731324 + 0.00146681\n",
      "[24]\tcv_agg's auc: 0.731079 + 0.00148492\n",
      "[25]\tcv_agg's auc: 0.730795 + 0.00147888\n",
      "[26]\tcv_agg's auc: 0.731212 + 0.00150027\n",
      "[27]\tcv_agg's auc: 0.731552 + 0.00147554\n",
      "[28]\tcv_agg's auc: 0.731427 + 0.00147527\n",
      "[29]\tcv_agg's auc: 0.73175 + 0.00146292\n",
      "[30]\tcv_agg's auc: 0.731959 + 0.0014608\n"
     ]
    }
   ],
   "source": [
    "eval_hist = lgbmodel.cv(num_boost_round=30, nfolds=5)"
   ]
  },
  {
   "cell_type": "code",
   "execution_count": 7,
   "metadata": {},
   "outputs": [],
   "source": [
    "import plotlyink\n",
    "plotlyink.register_pandas_iplot_accessor()"
   ]
  },
  {
   "cell_type": "code",
   "execution_count": 8,
   "metadata": {},
   "outputs": [
    {
     "data": {
      "0": {
       "marker": {
        "color": "rgb(213,62,79)"
       },
       "mode": "lines",
       "name": "auc-mean",
       "type": "scatter",
       "uid": "6806166c-c6d6-11e8-8572-00e04c6815c7",
       "x": [
        0,
        1,
        2,
        3,
        4,
        5,
        6,
        7,
        8,
        9,
        10,
        11,
        12,
        13,
        14,
        15,
        16,
        17,
        18,
        19,
        20,
        21,
        22,
        23,
        24,
        25,
        26,
        27,
        28,
        29
       ],
       "y": [
        0.6978386778447769,
        0.6987857087567695,
        0.7125622337776697,
        0.7189685500017594,
        0.7169925987180106,
        0.7212926151128702,
        0.720429801633879,
        0.7211135879738179,
        0.7239709829041402,
        0.7261119786714,
        0.7280744787755734,
        0.7277560406796137,
        0.7289295887373823,
        0.729725306221509,
        0.7305410228586577,
        0.7300714260021428,
        0.7305171484795248,
        0.7308549141943772,
        0.7305549583714402,
        0.7309673731996565,
        0.7311416374918998,
        0.7309034283022081,
        0.7313240415026063,
        0.7310790898547548,
        0.7307954746170041,
        0.7312115752542112,
        0.7315519435516069,
        0.7314273438894772,
        0.7317495435183814,
        0.7319590174976961
       ]
      },
      "image/png": "[encoded data removed]"
     },
     "metadata": {},
     "output_type": "display_data"
    }
   ],
   "source": [
    "df = pd.DataFrame(eval_hist).drop(columns=['auc-stdv'])\n",
    "df.iplot.scatter()"
   ]
  },
  {
   "cell_type": "markdown",
   "metadata": {},
   "source": [
    "# Top Feature Importance"
   ]
  },
  {
   "cell_type": "code",
   "execution_count": null,
   "metadata": {},
   "outputs": [],
   "source": [
    "#lgbmodel = LgbHomeService(debug=False, drop_lowimp_features=False)\n",
    "#booster = lgbmodel.validate(num_boost_round=500)"
   ]
  },
  {
   "cell_type": "code",
   "execution_count": 12,
   "metadata": {},
   "outputs": [],
   "source": [
    "booster = lgb.Booster(model_file='model_bank/lightgbm_model_03-09h-10m.txt')"
   ]
  },
  {
   "cell_type": "code",
   "execution_count": 13,
   "metadata": {},
   "outputs": [],
   "source": [
    "from homeserv_inter.model import get_df_importance\n",
    "df = get_df_importance(booster)"
   ]
  },
  {
   "cell_type": "code",
   "execution_count": 18,
   "metadata": {},
   "outputs": [
    {
     "data": {
      "text/html": [
       "<div>\n",
       "<style scoped>\n",
       "    .dataframe tbody tr th:only-of-type {\n",
       "        vertical-align: middle;\n",
       "    }\n",
       "\n",
       "    .dataframe tbody tr th {\n",
       "        vertical-align: top;\n",
       "    }\n",
       "\n",
       "    .dataframe thead th {\n",
       "        text-align: right;\n",
       "    }\n",
       "</style>\n",
       "<table border=\"1\" class=\"dataframe\">\n",
       "  <thead>\n",
       "    <tr style=\"text-align: right;\">\n",
       "      <th></th>\n",
       "      <th>importance</th>\n",
       "    </tr>\n",
       "  </thead>\n",
       "  <tbody>\n",
       "    <tr>\n",
       "      <th>SCHEDULED_END_DATE_dayofyear</th>\n",
       "      <td>4.341414</td>\n",
       "    </tr>\n",
       "    <tr>\n",
       "      <th>RESOURCE_ID</th>\n",
       "      <td>4.248485</td>\n",
       "    </tr>\n",
       "    <tr>\n",
       "      <th>ADRESSE</th>\n",
       "      <td>3.193939</td>\n",
       "    </tr>\n",
       "    <tr>\n",
       "      <th>MARQUE_LIB</th>\n",
       "      <td>2.785859</td>\n",
       "    </tr>\n",
       "    <tr>\n",
       "      <th>bulletin_creation_TD_INSTALL_DATE_days</th>\n",
       "      <td>2.484848</td>\n",
       "    </tr>\n",
       "    <tr>\n",
       "      <th>CIA</th>\n",
       "      <td>2.474747</td>\n",
       "    </tr>\n",
       "    <tr>\n",
       "      <th>bulletin_creation_TD_SCHEDULED_END_DATE_days</th>\n",
       "      <td>2.456566</td>\n",
       "    </tr>\n",
       "    <tr>\n",
       "      <th>L2_NAME</th>\n",
       "      <td>2.361616</td>\n",
       "    </tr>\n",
       "    <tr>\n",
       "      <th>ratio_duration_contract_td_install_days</th>\n",
       "      <td>2.268687</td>\n",
       "    </tr>\n",
       "    <tr>\n",
       "      <th>COMMENTAIRE_BI_len</th>\n",
       "      <td>2.121212</td>\n",
       "    </tr>\n",
       "    <tr>\n",
       "      <th>NATURE_CODE</th>\n",
       "      <td>2.018182</td>\n",
       "    </tr>\n",
       "    <tr>\n",
       "      <th>MODELE_LIB</th>\n",
       "      <td>2.012121</td>\n",
       "    </tr>\n",
       "    <tr>\n",
       "      <th>L2_ORGA_CODE_POSTAL</th>\n",
       "      <td>1.971717</td>\n",
       "    </tr>\n",
       "    <tr>\n",
       "      <th>CONTRAT_TARIF</th>\n",
       "      <td>1.953535</td>\n",
       "    </tr>\n",
       "    <tr>\n",
       "      <th>AUTEUR_INCIDENT</th>\n",
       "      <td>1.951515</td>\n",
       "    </tr>\n",
       "    <tr>\n",
       "      <th>ETAGE</th>\n",
       "      <td>1.882828</td>\n",
       "    </tr>\n",
       "    <tr>\n",
       "      <th>EAU_CHAUDE</th>\n",
       "      <td>1.880808</td>\n",
       "    </tr>\n",
       "    <tr>\n",
       "      <th>PRIX_FACTURE</th>\n",
       "      <td>1.844444</td>\n",
       "    </tr>\n",
       "    <tr>\n",
       "      <th>CRE_DATE_GZL_dayofyear</th>\n",
       "      <td>1.765657</td>\n",
       "    </tr>\n",
       "    <tr>\n",
       "      <th>POINTS_FIDEL</th>\n",
       "      <td>1.610101</td>\n",
       "    </tr>\n",
       "  </tbody>\n",
       "</table>\n",
       "</div>"
      ],
      "text/plain": [
       "                                              importance\n",
       "SCHEDULED_END_DATE_dayofyear                    4.341414\n",
       "RESOURCE_ID                                     4.248485\n",
       "ADRESSE                                         3.193939\n",
       "MARQUE_LIB                                      2.785859\n",
       "bulletin_creation_TD_INSTALL_DATE_days          2.484848\n",
       "CIA                                             2.474747\n",
       "bulletin_creation_TD_SCHEDULED_END_DATE_days    2.456566\n",
       "L2_NAME                                         2.361616\n",
       "ratio_duration_contract_td_install_days         2.268687\n",
       "COMMENTAIRE_BI_len                              2.121212\n",
       "NATURE_CODE                                     2.018182\n",
       "MODELE_LIB                                      2.012121\n",
       "L2_ORGA_CODE_POSTAL                             1.971717\n",
       "CONTRAT_TARIF                                   1.953535\n",
       "AUTEUR_INCIDENT                                 1.951515\n",
       "ETAGE                                           1.882828\n",
       "EAU_CHAUDE                                      1.880808\n",
       "PRIX_FACTURE                                    1.844444\n",
       "CRE_DATE_GZL_dayofyear                          1.765657\n",
       "POINTS_FIDEL                                    1.610101"
      ]
     },
     "execution_count": 18,
     "metadata": {},
     "output_type": "execute_result"
    }
   ],
   "source": [
    "df.head(20)"
   ]
  },
  {
   "cell_type": "code",
   "execution_count": 26,
   "metadata": {},
   "outputs": [
    {
     "data": {
      "0": {
       "marker": {
        "color": "rgb(213,62,79)"
       },
       "name": "importance",
       "type": "bar",
       "uid": "b639ca80-c6dc-11e8-8572-00e04c6815c7",
       "x": [
        "SCHEDULED_END_DATE_dayofyear",
        "RESOURCE_ID",
        "ADRESSE",
        "MARQUE_LIB",
        "bulletin_creation_TD_INSTALL_DATE_days",
        "CIA",
        "bulletin_creation_TD_SCHEDULED_END_DATE_days",
        "L2_NAME",
        "ratio_duration_contract_td_install_days",
        "COMMENTAIRE_BI_len",
        "NATURE_CODE",
        "MODELE_LIB",
        "L2_ORGA_CODE_POSTAL",
        "CONTRAT_TARIF",
        "AUTEUR_INCIDENT",
        "ETAGE",
        "EAU_CHAUDE",
        "PRIX_FACTURE",
        "CRE_DATE_GZL_dayofyear",
        "POINTS_FIDEL",
        "NUM_CAMPAGNE",
        "SCHEDULED_END_DATE_week",
        "L2_ORGA_VILLE",
        "INSTALL_DATE_year",
        "CONTRACT_MODIFICATEUR",
        "CODE_POSTAL",
        "PRIX_FORMULE",
        "FONCTION",
        "PARTY_ID_OCC",
        "STOP_PHONING",
        "INSTALLATION",
        "LOCATION_ID",
        "CONTRACT_NUMBER",
        "bulletin_creation_TD_CRE_DATE_days",
        "SPECIFICATION",
        "NB_PASSAGE",
        "SCHEDULED_START_DATE_dayofyear",
        "ratio_duration_contract_duration_first_interv",
        "CRE_DATE_GZL_year",
        "CRE_DATE_GZL_week"
       ],
       "y": [
        4.341414141414141,
        4.248484848484849,
        3.1939393939393943,
        2.785858585858586,
        2.484848484848485,
        2.474747474747475,
        2.4565656565656564,
        2.3616161616161615,
        2.2686868686868684,
        2.1212121212121215,
        2.018181818181818,
        2.0121212121212118,
        1.9717171717171715,
        1.9535353535353535,
        1.9515151515151516,
        1.882828282828283,
        1.880808080808081,
        1.8444444444444443,
        1.7656565656565655,
        1.6101010101010103,
        1.5717171717171716,
        1.5474747474747474,
        1.5393939393939393,
        1.525252525252525,
        1.4808080808080808,
        1.4646464646464648,
        1.4505050505050505,
        1.3555555555555554,
        1.3111111111111111,
        1.2767676767676768,
        1.2767676767676768,
        1.2585858585858585,
        1.1898989898989898,
        1.1676767676767676,
        1.1535353535353536,
        1.103030303030303,
        1.096969696969697,
        1.0727272727272728,
        1.0303030303030303,
        0.9494949494949495
       ]
      },
      "image/png": "[encoded data removed]"
     },
     "metadata": {},
     "output_type": "display_data"
    }
   ],
   "source": [
    "df.head(40).iplot.bar(layout={'margin': {'b': 200, 't':10, 'l': 10, 'r': 130}})"
   ]
  },
  {
   "cell_type": "markdown",
   "metadata": {},
   "source": [
    "# To reproduce 6th place score:"
   ]
  },
  {
   "cell_type": "code",
   "execution_count": null,
   "metadata": {},
   "outputs": [],
   "source": [
    "from homeserv_inter.cli import convert_csv_to_parquet\n",
    "convert_csv_to_parquet()\n",
    "from homeserv_inter.datahandler import generate_cleaned_sets\n",
    "generate_cleaned_sets()\n",
    "\n",
    "from homeserv_inter.model import LgbHomeService\n",
    "lgbmodel = LgbHomeService(debug=False, drop_lowimp_features=True)\n",
    "lgbmodel.generate_submit(num_boost_round=3800)"
   ]
  }
 ],
 "metadata": {
  "kernelspec": {
   "display_name": "Python 3",
   "language": "python",
   "name": "python3"
  },
  "language_info": {
   "codemirror_mode": {
    "name": "ipython",
    "version": 3
   },
   "file_extension": ".py",
   "mimetype": "text/x-python",
   "name": "python",
   "nbconvert_exporter": "python",
   "pygments_lexer": "ipython3",
   "version": "3.6.6"
  }
 },
 "nbformat": 4,
 "nbformat_minor": 2
}
